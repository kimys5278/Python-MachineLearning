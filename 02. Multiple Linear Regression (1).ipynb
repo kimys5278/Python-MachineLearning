{
 "cells": [
  {
   "cell_type": "markdown",
   "id": "53745904",
   "metadata": {},
   "source": [
    "# 02. Multiple Linear Regression"
   ]
  },
  {
   "cell_type": "markdown",
   "id": "a32eb2a9",
   "metadata": {},
   "source": [
    "## SubTitle: one-hot-encoding"
   ]
  },
  {
   "cell_type": "code",
   "execution_count": 49,
   "id": "e70666f4",
   "metadata": {},
   "outputs": [],
   "source": [
    "import pandas as pd"
   ]
  },
  {
   "cell_type": "code",
   "execution_count": 50,
   "id": "f3754a2a",
   "metadata": {},
   "outputs": [],
   "source": [
    "dataset = pd.read_csv('MultipleLinearRegressionData.csv')\n",
    "X = dataset.iloc[:,:-1].values\n",
    "Y = dataset.iloc[:,-1].values"
   ]
  },
  {
   "cell_type": "code",
   "execution_count": 51,
   "id": "2d4fc024",
   "metadata": {},
   "outputs": [
    {
     "data": {
      "text/plain": [
       "array([[0.5, 3, 'Home'],\n",
       "       [1.2, 4, 'Library'],\n",
       "       [1.8, 2, 'Cafe'],\n",
       "       [2.4, 0, 'Cafe'],\n",
       "       [2.6, 2, 'Home'],\n",
       "       [3.2, 0, 'Home'],\n",
       "       [3.9, 0, 'Library'],\n",
       "       [4.4, 0, 'Library'],\n",
       "       [4.5, 5, 'Home'],\n",
       "       [5.0, 1, 'Cafe'],\n",
       "       [5.3, 2, 'Cafe'],\n",
       "       [5.8, 0, 'Cafe'],\n",
       "       [6.0, 3, 'Library'],\n",
       "       [6.1, 1, 'Cafe'],\n",
       "       [6.2, 1, 'Library'],\n",
       "       [6.9, 4, 'Home'],\n",
       "       [7.2, 2, 'Cafe'],\n",
       "       [8.4, 1, 'Home'],\n",
       "       [8.6, 1, 'Library'],\n",
       "       [10.0, 0, 'Library']], dtype=object)"
      ]
     },
     "execution_count": 51,
     "metadata": {},
     "output_type": "execute_result"
    }
   ],
   "source": [
    "X"
   ]
  },
  {
   "cell_type": "code",
   "execution_count": null,
   "id": "edd6354f",
   "metadata": {},
   "outputs": [],
   "source": [
    "from sklearn.compose import ColumnTransformer\n",
    "from sklearn.preprocessing import OneHotEncoder\n",
    "ct = ColumnTransformer(transformers = [('encoder',OneHotEncoder(drop='first'),[2])],remainder='passthrough')\n",
    "X=ct.fit_transform(X)\n",
    "X\n",
    "\n",
    "#1 0 : 홈\n",
    "#0 1 : 도서관\n",
    "#0 0 : 카페"
   ]
  },
  {
   "cell_type": "markdown",
   "id": "3706befb",
   "metadata": {},
   "source": [
    "# 데이터 세트 분리"
   ]
  },
  {
   "cell_type": "code",
   "execution_count": 54,
   "id": "ce4f2f5d",
   "metadata": {},
   "outputs": [],
   "source": [
    "from sklearn.model_selection import train_test_split\n",
    "X_train,X_test,Y_train,Y_test = train_test_split(X,Y,test_size = 0.2,random_state=0)"
   ]
  },
  {
   "cell_type": "markdown",
   "id": "81cca19f",
   "metadata": {},
   "source": [
    "### 학습(다중 선형 회귀)"
   ]
  },
  {
   "cell_type": "code",
   "execution_count": 58,
   "id": "80d00356",
   "metadata": {},
   "outputs": [
    {
     "data": {
      "text/plain": [
       "LinearRegression()"
      ]
     },
     "execution_count": 58,
     "metadata": {},
     "output_type": "execute_result"
    }
   ],
   "source": [
    "from sklearn.linear_model import LinearRegression\n",
    "reg = LinearRegression()\n",
    "reg.fit(X_train,Y_train)"
   ]
  },
  {
   "cell_type": "markdown",
   "id": "acd54c20",
   "metadata": {},
   "source": [
    "### 예측 값과 실제 값 비교(테스트세트)"
   ]
  },
  {
   "cell_type": "code",
   "execution_count": 59,
   "id": "2466c070",
   "metadata": {},
   "outputs": [],
   "source": [
    "Y_pred = reg.predict(X_test)"
   ]
  },
  {
   "cell_type": "code",
   "execution_count": 60,
   "id": "ac687523",
   "metadata": {},
   "outputs": [
    {
     "data": {
      "text/plain": [
       "array([ 92.15457859,  10.23753043, 108.36245302,  38.14675204])"
      ]
     },
     "execution_count": 60,
     "metadata": {},
     "output_type": "execute_result"
    }
   ],
   "source": [
    "Y_pred"
   ]
  },
  {
   "cell_type": "code",
   "execution_count": 61,
   "id": "8bf8e7d9",
   "metadata": {},
   "outputs": [
    {
     "data": {
      "text/plain": [
       "array([ 90,   8, 100,  38], dtype=int64)"
      ]
     },
     "execution_count": 61,
     "metadata": {},
     "output_type": "execute_result"
    }
   ],
   "source": [
    "Y_test"
   ]
  },
  {
   "cell_type": "code",
   "execution_count": 62,
   "id": "d75cc612",
   "metadata": {},
   "outputs": [
    {
     "data": {
      "text/plain": [
       "array([-5.82712824, -1.04450647, 10.40419528, -1.64200104])"
      ]
     },
     "execution_count": 62,
     "metadata": {},
     "output_type": "execute_result"
    }
   ],
   "source": [
    "reg.coef_"
   ]
  },
  {
   "cell_type": "code",
   "execution_count": 63,
   "id": "b1c7e8da",
   "metadata": {},
   "outputs": [
    {
     "data": {
      "text/plain": [
       "5.365006706544747"
      ]
     },
     "execution_count": 63,
     "metadata": {},
     "output_type": "execute_result"
    }
   ],
   "source": [
    "reg.intercept_"
   ]
  },
  {
   "cell_type": "markdown",
   "id": "d42b1f10",
   "metadata": {},
   "source": [
    "# 모델평가"
   ]
  },
  {
   "cell_type": "code",
   "execution_count": 64,
   "id": "4717b752",
   "metadata": {},
   "outputs": [
    {
     "data": {
      "text/plain": [
       "0.9623352565265527"
      ]
     },
     "execution_count": 64,
     "metadata": {},
     "output_type": "execute_result"
    }
   ],
   "source": [
    "reg.score(X_train,Y_train)"
   ]
  },
  {
   "cell_type": "code",
   "execution_count": 65,
   "id": "2009df8b",
   "metadata": {},
   "outputs": [
    {
     "data": {
      "text/plain": [
       "0.9859956178877445"
      ]
     },
     "execution_count": 65,
     "metadata": {},
     "output_type": "execute_result"
    }
   ],
   "source": [
    "reg.score(X_test,Y_test)"
   ]
  },
  {
   "cell_type": "markdown",
   "id": "baad69c4",
   "metadata": {},
   "source": [
    "# 다양한 평가 지표(회귀 모델)"
   ]
  },
  {
   "cell_type": "markdown",
   "id": "471e0f72",
   "metadata": {},
   "source": [
    "1. MAE (Mean Absolute Error) : (실제 값과 예측값) 차이의 절대값\n",
    "2. MSE (Mean Squared Error) : (실제 값과 예측값) 차이의 제곱\n",
    "3. RMSE (Root Mean Squared Error) : (실제 값과 예측값) 차이의 제곱에 루트\n",
    "4. R2 : 결정 계수\n",
    "\n",
    ">R2 는 1에 가까울수록 좋고, 나머지는 0에 가까울수록 더 좋다."
   ]
  },
  {
   "cell_type": "code",
   "execution_count": 68,
   "id": "d4052971",
   "metadata": {},
   "outputs": [
    {
     "data": {
      "text/plain": [
       "3.2253285188288023"
      ]
     },
     "execution_count": 68,
     "metadata": {},
     "output_type": "execute_result"
    }
   ],
   "source": [
    "from sklearn.metrics import mean_absolute_error\n",
    "mean_absolute_error(Y_test,Y_pred) #실제 값, 예측 값 #MAE"
   ]
  },
  {
   "cell_type": "code",
   "execution_count": 71,
   "id": "2a892804",
   "metadata": {},
   "outputs": [
    {
     "data": {
      "text/plain": [
       "19.900226981515015"
      ]
     },
     "execution_count": 71,
     "metadata": {},
     "output_type": "execute_result"
    }
   ],
   "source": [
    "from sklearn.metrics import mean_squared_error\n",
    "mean_squared_error(Y_test,Y_pred) #실제 값, 예측 값 #MAE"
   ]
  },
  {
   "cell_type": "code",
   "execution_count": 72,
   "id": "ad160f3b",
   "metadata": {},
   "outputs": [
    {
     "data": {
      "text/plain": [
       "4.460967045553578"
      ]
     },
     "execution_count": 72,
     "metadata": {},
     "output_type": "execute_result"
    }
   ],
   "source": [
    "from sklearn.metrics import mean_squared_error\n",
    "mean_squared_error(Y_test,Y_pred,squared = False) #실제 값, 예측 값 #RMAE \n",
    "#squared = False -> 제곱하지 말라는 코드 즉, 루트,"
   ]
  },
  {
   "cell_type": "code",
   "execution_count": 73,
   "id": "8359ad12",
   "metadata": {},
   "outputs": [
    {
     "data": {
      "text/plain": [
       "0.9859956178877445"
      ]
     },
     "execution_count": 73,
     "metadata": {},
     "output_type": "execute_result"
    }
   ],
   "source": [
    "from sklearn.metrics import r2_score\n",
    "r2_score(Y_test,Y_pred)#R2"
   ]
  },
  {
   "cell_type": "code",
   "execution_count": null,
   "id": "a05499bd",
   "metadata": {},
   "outputs": [],
   "source": [
    "from sklearn.metrics import r2_score\n"
   ]
  }
 ],
 "metadata": {
  "kernelspec": {
   "display_name": "Python 3 (ipykernel)",
   "language": "python",
   "name": "python3"
  },
  "language_info": {
   "codemirror_mode": {
    "name": "ipython",
    "version": 3
   },
   "file_extension": ".py",
   "mimetype": "text/x-python",
   "name": "python",
   "nbconvert_exporter": "python",
   "pygments_lexer": "ipython3",
   "version": "3.9.13"
  }
 },
 "nbformat": 4,
 "nbformat_minor": 5
}
